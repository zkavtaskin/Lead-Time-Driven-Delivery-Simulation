{
 "cells": [
  {
   "cell_type": "markdown",
   "metadata": {},
   "source": [
    "# Lead Time Capacity Minimisation\n",
    "\n",
    "In this notebook I will showcase how it is possible to identify capacity for each team member that results in lowest lead time and least amount of idle time.  \n",
    "\n",
    "This will be done by using multivariable linear regression.\n"
   ]
  },
  {
   "cell_type": "markdown",
   "metadata": {},
   "source": [
    "### Data Load "
   ]
  },
  {
   "cell_type": "code",
   "execution_count": 1,
   "metadata": {
    "scrolled": true
   },
   "outputs": [],
   "source": [
    "import os\n",
    "import pandas as pd\n",
    "import numpy as np\n",
    "import matplotlib.pyplot as plt\n",
    "import copy\n",
    "from scipy import stats\n",
    "from sklearn.metrics import mean_squared_error\n",
    "from sklearn.preprocessing import PolynomialFeatures\n",
    "from sklearn.linear_model import LinearRegression\n",
    "from sklearn.model_selection import train_test_split\n",
    "from scipy.optimize import minimize\n",
    "\n",
    "def plot_learning_curves(model, X, y, test_size):\n",
    "    X_train, X_val, y_train, y_val = train_test_split(X, y, test_size=test_size)\n",
    "    train_errors, val_errors = [],[]\n",
    "    for m in range(1, len(X_train)):\n",
    "        model.fit(X_train[:m], y_train[:m])\n",
    "        y_train_predict = model.predict(X_train[:m])\n",
    "        y_val_predict = model.predict(X_val)\n",
    "        train_errors.append(mean_squared_error(y_train[:m], y_train_predict))\n",
    "        val_errors.append(mean_squared_error(y_val, y_val_predict))\n",
    "    return np.sqrt(train_errors), np.sqrt(val_errors)\n",
    "\n"
   ]
  },
  {
   "cell_type": "code",
   "execution_count": 2,
   "metadata": {},
   "outputs": [
    {
     "data": {
      "text/html": [
       "<div>\n",
       "<style scoped>\n",
       "    .dataframe tbody tr th:only-of-type {\n",
       "        vertical-align: middle;\n",
       "    }\n",
       "\n",
       "    .dataframe tbody tr th {\n",
       "        vertical-align: top;\n",
       "    }\n",
       "\n",
       "    .dataframe thead th {\n",
       "        text-align: right;\n",
       "    }\n",
       "</style>\n",
       "<table border=\"1\" class=\"dataframe\">\n",
       "  <thead>\n",
       "    <tr style=\"text-align: right;\">\n",
       "      <th></th>\n",
       "      <th>x1</th>\n",
       "      <th>x2</th>\n",
       "      <th>x3</th>\n",
       "      <th>x4</th>\n",
       "      <th>x5</th>\n",
       "      <th>x6</th>\n",
       "      <th>x7</th>\n",
       "      <th>y1</th>\n",
       "      <th>y2</th>\n",
       "    </tr>\n",
       "  </thead>\n",
       "  <tbody>\n",
       "    <tr>\n",
       "      <th>0</th>\n",
       "      <td>0.57</td>\n",
       "      <td>0.51</td>\n",
       "      <td>0.31</td>\n",
       "      <td>2.04</td>\n",
       "      <td>2.11</td>\n",
       "      <td>2.61</td>\n",
       "      <td>0.01</td>\n",
       "      <td>83.7</td>\n",
       "      <td>98</td>\n",
       "    </tr>\n",
       "    <tr>\n",
       "      <th>1</th>\n",
       "      <td>0.38</td>\n",
       "      <td>0.31</td>\n",
       "      <td>0.35</td>\n",
       "      <td>4.48</td>\n",
       "      <td>1.35</td>\n",
       "      <td>4.79</td>\n",
       "      <td>0.06</td>\n",
       "      <td>109.9</td>\n",
       "      <td>72</td>\n",
       "    </tr>\n",
       "    <tr>\n",
       "      <th>2</th>\n",
       "      <td>1.25</td>\n",
       "      <td>1.35</td>\n",
       "      <td>0.10</td>\n",
       "      <td>4.88</td>\n",
       "      <td>4.82</td>\n",
       "      <td>1.64</td>\n",
       "      <td>0.12</td>\n",
       "      <td>447.9</td>\n",
       "      <td>253</td>\n",
       "    </tr>\n",
       "    <tr>\n",
       "      <th>3</th>\n",
       "      <td>1.22</td>\n",
       "      <td>0.60</td>\n",
       "      <td>0.12</td>\n",
       "      <td>2.34</td>\n",
       "      <td>1.16</td>\n",
       "      <td>0.37</td>\n",
       "      <td>0.13</td>\n",
       "      <td>95.4</td>\n",
       "      <td>113</td>\n",
       "    </tr>\n",
       "    <tr>\n",
       "      <th>4</th>\n",
       "      <td>0.93</td>\n",
       "      <td>0.95</td>\n",
       "      <td>0.66</td>\n",
       "      <td>2.95</td>\n",
       "      <td>4.49</td>\n",
       "      <td>2.96</td>\n",
       "      <td>0.13</td>\n",
       "      <td>43.8</td>\n",
       "      <td>49</td>\n",
       "    </tr>\n",
       "  </tbody>\n",
       "</table>\n",
       "</div>"
      ],
      "text/plain": [
       "     x1    x2    x3    x4    x5    x6    x7     y1   y2\n",
       "0  0.57  0.51  0.31  2.04  2.11  2.61  0.01   83.7   98\n",
       "1  0.38  0.31  0.35  4.48  1.35  4.79  0.06  109.9   72\n",
       "2  1.25  1.35  0.10  4.88  4.82  1.64  0.12  447.9  253\n",
       "3  1.22  0.60  0.12  2.34  1.16  0.37  0.13   95.4  113\n",
       "4  0.93  0.95  0.66  2.95  4.49  2.96  0.13   43.8   49"
      ]
     },
     "metadata": {},
     "output_type": "display_data"
    }
   ],
   "source": [
    "capacity = pd.read_csv(\"capacity.csv\")\n",
    "capacity.drop([\"Null\"], axis=1, inplace=True)\n",
    "capacity.dropna(inplace=True)\n",
    "display(capacity.head())"
   ]
  },
  {
   "cell_type": "code",
   "execution_count": 3,
   "metadata": {},
   "outputs": [
    {
     "data": {
      "text/plain": [
       "x1    float64\n",
       "x2    float64\n",
       "x3    float64\n",
       "x4    float64\n",
       "x5    float64\n",
       "x6    float64\n",
       "x7    float64\n",
       "y1    float64\n",
       "y2      int64\n",
       "dtype: object"
      ]
     },
     "execution_count": 3,
     "metadata": {},
     "output_type": "execute_result"
    }
   ],
   "source": [
    "capacity.dtypes"
   ]
  },
  {
   "cell_type": "code",
   "execution_count": 4,
   "metadata": {},
   "outputs": [
    {
     "data": {
      "text/html": [
       "<div>\n",
       "<style scoped>\n",
       "    .dataframe tbody tr th:only-of-type {\n",
       "        vertical-align: middle;\n",
       "    }\n",
       "\n",
       "    .dataframe tbody tr th {\n",
       "        vertical-align: top;\n",
       "    }\n",
       "\n",
       "    .dataframe thead th {\n",
       "        text-align: right;\n",
       "    }\n",
       "</style>\n",
       "<table border=\"1\" class=\"dataframe\">\n",
       "  <thead>\n",
       "    <tr style=\"text-align: right;\">\n",
       "      <th></th>\n",
       "      <th>x1</th>\n",
       "      <th>x2</th>\n",
       "      <th>x3</th>\n",
       "      <th>x4</th>\n",
       "      <th>x5</th>\n",
       "      <th>x6</th>\n",
       "      <th>x7</th>\n",
       "      <th>y1</th>\n",
       "      <th>y2</th>\n",
       "    </tr>\n",
       "  </thead>\n",
       "  <tbody>\n",
       "    <tr>\n",
       "      <th>count</th>\n",
       "      <td>1400.000000</td>\n",
       "      <td>1400.000000</td>\n",
       "      <td>1400.000000</td>\n",
       "      <td>1400.000000</td>\n",
       "      <td>1400.000000</td>\n",
       "      <td>1400.000000</td>\n",
       "      <td>1400.000000</td>\n",
       "      <td>1400.000000</td>\n",
       "      <td>1400.000000</td>\n",
       "    </tr>\n",
       "    <tr>\n",
       "      <th>mean</th>\n",
       "      <td>0.668321</td>\n",
       "      <td>0.675136</td>\n",
       "      <td>0.340071</td>\n",
       "      <td>2.609671</td>\n",
       "      <td>2.482621</td>\n",
       "      <td>2.476136</td>\n",
       "      <td>0.067279</td>\n",
       "      <td>1273.211286</td>\n",
       "      <td>1055.460000</td>\n",
       "    </tr>\n",
       "    <tr>\n",
       "      <th>std</th>\n",
       "      <td>0.396890</td>\n",
       "      <td>0.396123</td>\n",
       "      <td>0.196789</td>\n",
       "      <td>1.451367</td>\n",
       "      <td>1.447139</td>\n",
       "      <td>1.430351</td>\n",
       "      <td>0.038257</td>\n",
       "      <td>13499.952768</td>\n",
       "      <td>10227.692182</td>\n",
       "    </tr>\n",
       "    <tr>\n",
       "      <th>min</th>\n",
       "      <td>0.000000</td>\n",
       "      <td>0.000000</td>\n",
       "      <td>0.000000</td>\n",
       "      <td>0.000000</td>\n",
       "      <td>0.010000</td>\n",
       "      <td>0.000000</td>\n",
       "      <td>0.000000</td>\n",
       "      <td>23.300000</td>\n",
       "      <td>33.000000</td>\n",
       "    </tr>\n",
       "    <tr>\n",
       "      <th>25%</th>\n",
       "      <td>0.320000</td>\n",
       "      <td>0.327500</td>\n",
       "      <td>0.170000</td>\n",
       "      <td>1.370000</td>\n",
       "      <td>1.207500</td>\n",
       "      <td>1.247500</td>\n",
       "      <td>0.040000</td>\n",
       "      <td>89.075000</td>\n",
       "      <td>91.000000</td>\n",
       "    </tr>\n",
       "    <tr>\n",
       "      <th>50%</th>\n",
       "      <td>0.660000</td>\n",
       "      <td>0.670000</td>\n",
       "      <td>0.340000</td>\n",
       "      <td>2.730000</td>\n",
       "      <td>2.460000</td>\n",
       "      <td>2.470000</td>\n",
       "      <td>0.070000</td>\n",
       "      <td>180.600000</td>\n",
       "      <td>173.000000</td>\n",
       "    </tr>\n",
       "    <tr>\n",
       "      <th>75%</th>\n",
       "      <td>1.010000</td>\n",
       "      <td>1.010000</td>\n",
       "      <td>0.510000</td>\n",
       "      <td>3.860000</td>\n",
       "      <td>3.710000</td>\n",
       "      <td>3.670000</td>\n",
       "      <td>0.100000</td>\n",
       "      <td>452.100000</td>\n",
       "      <td>414.000000</td>\n",
       "    </tr>\n",
       "    <tr>\n",
       "      <th>max</th>\n",
       "      <td>1.350000</td>\n",
       "      <td>1.350000</td>\n",
       "      <td>0.680000</td>\n",
       "      <td>4.990000</td>\n",
       "      <td>5.000000</td>\n",
       "      <td>5.000000</td>\n",
       "      <td>0.140000</td>\n",
       "      <td>394382.300000</td>\n",
       "      <td>291934.000000</td>\n",
       "    </tr>\n",
       "  </tbody>\n",
       "</table>\n",
       "</div>"
      ],
      "text/plain": [
       "                x1           x2           x3           x4           x5  \\\n",
       "count  1400.000000  1400.000000  1400.000000  1400.000000  1400.000000   \n",
       "mean      0.668321     0.675136     0.340071     2.609671     2.482621   \n",
       "std       0.396890     0.396123     0.196789     1.451367     1.447139   \n",
       "min       0.000000     0.000000     0.000000     0.000000     0.010000   \n",
       "25%       0.320000     0.327500     0.170000     1.370000     1.207500   \n",
       "50%       0.660000     0.670000     0.340000     2.730000     2.460000   \n",
       "75%       1.010000     1.010000     0.510000     3.860000     3.710000   \n",
       "max       1.350000     1.350000     0.680000     4.990000     5.000000   \n",
       "\n",
       "                x6           x7             y1             y2  \n",
       "count  1400.000000  1400.000000    1400.000000    1400.000000  \n",
       "mean      2.476136     0.067279    1273.211286    1055.460000  \n",
       "std       1.430351     0.038257   13499.952768   10227.692182  \n",
       "min       0.000000     0.000000      23.300000      33.000000  \n",
       "25%       1.247500     0.040000      89.075000      91.000000  \n",
       "50%       2.470000     0.070000     180.600000     173.000000  \n",
       "75%       3.670000     0.100000     452.100000     414.000000  \n",
       "max       5.000000     0.140000  394382.300000  291934.000000  "
      ]
     },
     "execution_count": 4,
     "metadata": {},
     "output_type": "execute_result"
    }
   ],
   "source": [
    "capacity.describe()"
   ]
  },
  {
   "cell_type": "code",
   "execution_count": 12,
   "metadata": {},
   "outputs": [
    {
     "data": {
      "text/html": [
       "<div>\n",
       "<style scoped>\n",
       "    .dataframe tbody tr th:only-of-type {\n",
       "        vertical-align: middle;\n",
       "    }\n",
       "\n",
       "    .dataframe tbody tr th {\n",
       "        vertical-align: top;\n",
       "    }\n",
       "\n",
       "    .dataframe thead th {\n",
       "        text-align: right;\n",
       "    }\n",
       "</style>\n",
       "<table border=\"1\" class=\"dataframe\">\n",
       "  <thead>\n",
       "    <tr style=\"text-align: right;\">\n",
       "      <th></th>\n",
       "      <th>x1</th>\n",
       "      <th>x2</th>\n",
       "      <th>x3</th>\n",
       "      <th>x4</th>\n",
       "      <th>x5</th>\n",
       "      <th>x6</th>\n",
       "      <th>x7</th>\n",
       "    </tr>\n",
       "  </thead>\n",
       "  <tbody>\n",
       "    <tr>\n",
       "      <th>x1</th>\n",
       "      <td>1.000000</td>\n",
       "      <td>0.001046</td>\n",
       "      <td>0.003229</td>\n",
       "      <td>-0.054511</td>\n",
       "      <td>-0.021760</td>\n",
       "      <td>-0.010340</td>\n",
       "      <td>-0.002613</td>\n",
       "    </tr>\n",
       "    <tr>\n",
       "      <th>x2</th>\n",
       "      <td>0.001046</td>\n",
       "      <td>1.000000</td>\n",
       "      <td>-0.010736</td>\n",
       "      <td>0.015651</td>\n",
       "      <td>0.014207</td>\n",
       "      <td>0.025400</td>\n",
       "      <td>0.057298</td>\n",
       "    </tr>\n",
       "    <tr>\n",
       "      <th>x3</th>\n",
       "      <td>0.003229</td>\n",
       "      <td>-0.010736</td>\n",
       "      <td>1.000000</td>\n",
       "      <td>-0.011246</td>\n",
       "      <td>0.038337</td>\n",
       "      <td>0.000111</td>\n",
       "      <td>0.028718</td>\n",
       "    </tr>\n",
       "    <tr>\n",
       "      <th>x4</th>\n",
       "      <td>-0.054511</td>\n",
       "      <td>0.015651</td>\n",
       "      <td>-0.011246</td>\n",
       "      <td>1.000000</td>\n",
       "      <td>0.049228</td>\n",
       "      <td>-0.023842</td>\n",
       "      <td>-0.000205</td>\n",
       "    </tr>\n",
       "    <tr>\n",
       "      <th>x5</th>\n",
       "      <td>-0.021760</td>\n",
       "      <td>0.014207</td>\n",
       "      <td>0.038337</td>\n",
       "      <td>0.049228</td>\n",
       "      <td>1.000000</td>\n",
       "      <td>0.061461</td>\n",
       "      <td>-0.000597</td>\n",
       "    </tr>\n",
       "    <tr>\n",
       "      <th>x6</th>\n",
       "      <td>-0.010340</td>\n",
       "      <td>0.025400</td>\n",
       "      <td>0.000111</td>\n",
       "      <td>-0.023842</td>\n",
       "      <td>0.061461</td>\n",
       "      <td>1.000000</td>\n",
       "      <td>-0.001278</td>\n",
       "    </tr>\n",
       "    <tr>\n",
       "      <th>x7</th>\n",
       "      <td>-0.002613</td>\n",
       "      <td>0.057298</td>\n",
       "      <td>0.028718</td>\n",
       "      <td>-0.000205</td>\n",
       "      <td>-0.000597</td>\n",
       "      <td>-0.001278</td>\n",
       "      <td>1.000000</td>\n",
       "    </tr>\n",
       "  </tbody>\n",
       "</table>\n",
       "</div>"
      ],
      "text/plain": [
       "          x1        x2        x3        x4        x5        x6        x7\n",
       "x1  1.000000  0.001046  0.003229 -0.054511 -0.021760 -0.010340 -0.002613\n",
       "x2  0.001046  1.000000 -0.010736  0.015651  0.014207  0.025400  0.057298\n",
       "x3  0.003229 -0.010736  1.000000 -0.011246  0.038337  0.000111  0.028718\n",
       "x4 -0.054511  0.015651 -0.011246  1.000000  0.049228 -0.023842 -0.000205\n",
       "x5 -0.021760  0.014207  0.038337  0.049228  1.000000  0.061461 -0.000597\n",
       "x6 -0.010340  0.025400  0.000111 -0.023842  0.061461  1.000000 -0.001278\n",
       "x7 -0.002613  0.057298  0.028718 -0.000205 -0.000597 -0.001278  1.000000"
      ]
     },
     "execution_count": 12,
     "metadata": {},
     "output_type": "execute_result"
    }
   ],
   "source": [
    "capacity[['x1', 'x2', 'x3', 'x4', 'x5', 'x6', 'x7']].corr()"
   ]
  },
  {
   "cell_type": "code",
   "execution_count": 5,
   "metadata": {},
   "outputs": [
    {
     "data": {
      "text/plain": [
       "array([[<AxesSubplot:title={'center':'y1'}>,\n",
       "        <AxesSubplot:title={'center':'y2'}>]], dtype=object)"
      ]
     },
     "execution_count": 5,
     "metadata": {},
     "output_type": "execute_result"
    },
    {
     "data": {
      "image/png": "[encoded data removed]",
      "text/plain": [
       "<Figure size 432x288 with 2 Axes>"
      ]
     },
     "metadata": {
      "needs_background": "light"
     },
     "output_type": "display_data"
    }
   ],
   "source": [
    "capacity[['y1', 'y2']].hist(bins=5)"
   ]
  },
  {
   "cell_type": "code",
   "execution_count": 6,
   "metadata": {},
   "outputs": [
    {
     "data": {
      "text/plain": [
       "<AxesSubplot:>"
      ]
     },
     "execution_count": 6,
     "metadata": {},
     "output_type": "execute_result"
    },
    {
     "data": {
      "image/png": "[encoded data removed]",
      "text/plain": [
       "<Figure size 432x288 with 1 Axes>"
      ]
     },
     "metadata": {
      "needs_background": "light"
     },
     "output_type": "display_data"
    }
   ],
   "source": [
    "capacity['y'] = np.log10(capacity['y1'] + capacity['y2'])\n",
    "capacity['y'].hist(bins=5)"
   ]
  },
  {
   "cell_type": "code",
   "execution_count": 7,
   "metadata": {},
   "outputs": [
    {
     "name": "stdout",
     "output_type": "stream",
     "text": [
      "X shape  (1400, 7)  Y shape  (1400,)\n"
     ]
    }
   ],
   "source": [
    "X = capacity.values[:, 0:7]\n",
    "y = capacity.values[:, 9]\n",
    "print(\"X shape \", X.shape, \" Y shape \", y.shape)"
   ]
  },
  {
   "cell_type": "code",
   "execution_count": 8,
   "metadata": {},
   "outputs": [
    {
     "name": "stdout",
     "output_type": "stream",
     "text": [
      "Capacity:  [0.99 0.84 0.45 2.8  3.96 3.05 0.1 ]  Score:  469.6727429489358\n"
     ]
    }
   ],
   "source": [
    "min_index = np.argmin(y)\n",
    "print(\"Capacity: \", X[min_index], \" Score: \", y[min_index]**10)"
   ]
  },
  {
   "cell_type": "code",
   "execution_count": 9,
   "metadata": {},
   "outputs": [
    {
     "data": {
      "image/png": "[encoded data removed]",
      "text/plain": [
       "<Figure size 432x288 with 1 Axes>"
      ]
     },
     "metadata": {
      "needs_background": "light"
     },
     "output_type": "display_data"
    },
    {
     "name": "stdout",
     "output_type": "stream",
     "text": [
      "R^2: 0.49061968225640196\n",
      "mean error: 0.37785205197168115\n"
     ]
    }
   ],
   "source": [
    "lin_reg = LinearRegression()\n",
    "poly_features = PolynomialFeatures(degree=2, include_bias=False)\n",
    "X_poly = poly_features.fit_transform(X)\n",
    "train_errors, val_errors = plot_learning_curves(lin_reg, X_poly, y, 0.20)\n",
    "r_sq = lin_reg.score(X_poly, y)\n",
    "\n",
    "plt.plot(train_errors, \"r-+\", linewidth=2, label=\"train\")\n",
    "plt.plot(val_errors, \"b-\", linewidth=3, label=\"val\")\n",
    "plt.show()\n",
    "\n",
    "print(\"R^2:\", r_sq)\n",
    "print(\"mean error:\", np.sqrt(mean_squared_error(lin_reg.predict(X_poly), y)))"
   ]
  },
  {
   "cell_type": "code",
   "execution_count": 10,
   "metadata": {},
   "outputs": [
    {
     "name": "stdout",
     "output_type": "stream",
     "text": [
      "Forecasted Capacity:  [0.98 0.92 0.52 3.37 3.24 3.94 0.1 ]  Score:  288.0\n",
      "Bruteforce Capacity:  [0.99 0.84 0.45 2.8  3.96 3.05 0.1 ]  Score:  470.0\n"
     ]
    }
   ],
   "source": [
    "minimum = minimize(lambda x : lin_reg.predict(poly_features.fit_transform([x])), np.array([0,0,0,0,0,0,0]))\n",
    "\n",
    "print(\"Forecasted Capacity: \", np.around(minimum.x, 2), \" Score: \", np.around(lin_reg.predict(poly_features.fit_transform([minimum.x]))**10, 0)[0])\n",
    "print(\"Bruteforce Capacity: \", X[min_index], \" Score: \",  np.around(y[min_index]**10))"
   ]
  },
  {
   "cell_type": "code",
   "execution_count": null,
   "metadata": {},
   "outputs": [],
   "source": []
  }
 ],
 "metadata": {
  "kernelspec": {
   "display_name": "Python 3.9.10 64-bit",
   "language": "python",
   "name": "python3"
  },
  "language_info": {
   "codemirror_mode": {
    "name": "ipython",
    "version": 3
   },
   "file_extension": ".py",
   "mimetype": "text/x-python",
   "name": "python",
   "nbconvert_exporter": "python",
   "pygments_lexer": "ipython3",
   "version": "3.9.10 (main, Jan 15 2022, 11:40:53) \n[Clang 13.0.0 (clang-1300.0.29.3)]"
  },
  "vscode": {
   "interpreter": {
    "hash": "b0fa6594d8f4cbf19f97940f81e996739fb7646882a419484c72d19e05852a7e"
   }
  }
 },
 "nbformat": 4,
 "nbformat_minor": 4
}
